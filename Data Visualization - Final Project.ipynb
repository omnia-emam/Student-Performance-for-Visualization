{
 "cells": [
  {
   "cell_type": "code",
   "execution_count": 1,
   "metadata": {},
   "outputs": [],
   "source": [
    "# !pip install dash_bootstrap_components"
   ]
  },
  {
   "cell_type": "code",
   "execution_count": 2,
   "metadata": {},
   "outputs": [],
   "source": [
    "import dash \n",
    "from jupyter_dash import JupyterDash\n",
    "from dash import html \n",
    "from dash import dcc\n",
    "\n",
    "import pandas as pd\n",
    "import plotly.express as px\n",
    "from dash.dependencies import Input, Output,State\n",
    "import dash_bootstrap_components as dbc\n"
   ]
  },
  {
   "cell_type": "code",
   "execution_count": 3,
   "metadata": {},
   "outputs": [
    {
     "data": {
      "text/plain": [
       "gender                         object\n",
       "race/ethnicity                 object\n",
       "parental level of education    object\n",
       "lunch                          object\n",
       "test preparation course        object\n",
       "math score                      int64\n",
       "reading score                   int64\n",
       "writing score                   int64\n",
       "total score                     int64\n",
       "dtype: object"
      ]
     },
     "execution_count": 3,
     "metadata": {},
     "output_type": "execute_result"
    }
   ],
   "source": [
    "df= pd.read_csv('StudentsPerformance.csv')\n",
    "df['total score']= df['math score']+ df['reading score'] + df['writing score']\n",
    "df.dtypes"
   ]
  },
  {
   "cell_type": "code",
   "execution_count": 4,
   "metadata": {},
   "outputs": [
    {
     "data": {
      "text/html": [
       "<div>\n",
       "<style scoped>\n",
       "    .dataframe tbody tr th:only-of-type {\n",
       "        vertical-align: middle;\n",
       "    }\n",
       "\n",
       "    .dataframe tbody tr th {\n",
       "        vertical-align: top;\n",
       "    }\n",
       "\n",
       "    .dataframe thead th {\n",
       "        text-align: right;\n",
       "    }\n",
       "</style>\n",
       "<table border=\"1\" class=\"dataframe\">\n",
       "  <thead>\n",
       "    <tr style=\"text-align: right;\">\n",
       "      <th></th>\n",
       "      <th>gender</th>\n",
       "      <th>race/ethnicity</th>\n",
       "      <th>parental level of education</th>\n",
       "      <th>lunch</th>\n",
       "      <th>test preparation course</th>\n",
       "      <th>math score</th>\n",
       "      <th>reading score</th>\n",
       "      <th>writing score</th>\n",
       "      <th>total score</th>\n",
       "    </tr>\n",
       "  </thead>\n",
       "  <tbody>\n",
       "    <tr>\n",
       "      <th>0</th>\n",
       "      <td>female</td>\n",
       "      <td>group B</td>\n",
       "      <td>bachelor's degree</td>\n",
       "      <td>standard</td>\n",
       "      <td>none</td>\n",
       "      <td>72</td>\n",
       "      <td>72</td>\n",
       "      <td>74</td>\n",
       "      <td>218</td>\n",
       "    </tr>\n",
       "    <tr>\n",
       "      <th>1</th>\n",
       "      <td>female</td>\n",
       "      <td>group C</td>\n",
       "      <td>some college</td>\n",
       "      <td>standard</td>\n",
       "      <td>completed</td>\n",
       "      <td>69</td>\n",
       "      <td>90</td>\n",
       "      <td>88</td>\n",
       "      <td>247</td>\n",
       "    </tr>\n",
       "    <tr>\n",
       "      <th>2</th>\n",
       "      <td>female</td>\n",
       "      <td>group B</td>\n",
       "      <td>master's degree</td>\n",
       "      <td>standard</td>\n",
       "      <td>none</td>\n",
       "      <td>90</td>\n",
       "      <td>95</td>\n",
       "      <td>93</td>\n",
       "      <td>278</td>\n",
       "    </tr>\n",
       "    <tr>\n",
       "      <th>3</th>\n",
       "      <td>male</td>\n",
       "      <td>group A</td>\n",
       "      <td>associate's degree</td>\n",
       "      <td>free/reduced</td>\n",
       "      <td>none</td>\n",
       "      <td>47</td>\n",
       "      <td>57</td>\n",
       "      <td>44</td>\n",
       "      <td>148</td>\n",
       "    </tr>\n",
       "    <tr>\n",
       "      <th>4</th>\n",
       "      <td>male</td>\n",
       "      <td>group C</td>\n",
       "      <td>some college</td>\n",
       "      <td>standard</td>\n",
       "      <td>none</td>\n",
       "      <td>76</td>\n",
       "      <td>78</td>\n",
       "      <td>75</td>\n",
       "      <td>229</td>\n",
       "    </tr>\n",
       "  </tbody>\n",
       "</table>\n",
       "</div>"
      ],
      "text/plain": [
       "   gender race/ethnicity parental level of education         lunch  \\\n",
       "0  female        group B           bachelor's degree      standard   \n",
       "1  female        group C                some college      standard   \n",
       "2  female        group B             master's degree      standard   \n",
       "3    male        group A          associate's degree  free/reduced   \n",
       "4    male        group C                some college      standard   \n",
       "\n",
       "  test preparation course  math score  reading score  writing score  \\\n",
       "0                    none          72             72             74   \n",
       "1               completed          69             90             88   \n",
       "2                    none          90             95             93   \n",
       "3                    none          47             57             44   \n",
       "4                    none          76             78             75   \n",
       "\n",
       "   total score  \n",
       "0          218  \n",
       "1          247  \n",
       "2          278  \n",
       "3          148  \n",
       "4          229  "
      ]
     },
     "execution_count": 4,
     "metadata": {},
     "output_type": "execute_result"
    }
   ],
   "source": [
    "df.head()"
   ]
  },
  {
   "cell_type": "code",
   "execution_count": 5,
   "metadata": {},
   "outputs": [
    {
     "name": "stdout",
     "output_type": "stream",
     "text": [
      "<class 'pandas.core.frame.DataFrame'>\n",
      "RangeIndex: 1000 entries, 0 to 999\n",
      "Data columns (total 9 columns):\n",
      " #   Column                       Non-Null Count  Dtype \n",
      "---  ------                       --------------  ----- \n",
      " 0   gender                       1000 non-null   object\n",
      " 1   race/ethnicity               1000 non-null   object\n",
      " 2   parental level of education  1000 non-null   object\n",
      " 3   lunch                        1000 non-null   object\n",
      " 4   test preparation course      1000 non-null   object\n",
      " 5   math score                   1000 non-null   int64 \n",
      " 6   reading score                1000 non-null   int64 \n",
      " 7   writing score                1000 non-null   int64 \n",
      " 8   total score                  1000 non-null   int64 \n",
      "dtypes: int64(4), object(5)\n",
      "memory usage: 70.4+ KB\n"
     ]
    }
   ],
   "source": [
    "df.info()"
   ]
  },
  {
   "cell_type": "code",
   "execution_count": 22,
   "metadata": {},
   "outputs": [
    {
     "data": {
      "text/html": [
       "<div>\n",
       "<style scoped>\n",
       "    .dataframe tbody tr th:only-of-type {\n",
       "        vertical-align: middle;\n",
       "    }\n",
       "\n",
       "    .dataframe tbody tr th {\n",
       "        vertical-align: top;\n",
       "    }\n",
       "\n",
       "    .dataframe thead th {\n",
       "        text-align: right;\n",
       "    }\n",
       "</style>\n",
       "<table border=\"1\" class=\"dataframe\">\n",
       "  <thead>\n",
       "    <tr style=\"text-align: right;\">\n",
       "      <th></th>\n",
       "      <th>math score</th>\n",
       "      <th>reading score</th>\n",
       "      <th>writing score</th>\n",
       "      <th>total score</th>\n",
       "    </tr>\n",
       "  </thead>\n",
       "  <tbody>\n",
       "    <tr>\n",
       "      <th>count</th>\n",
       "      <td>1000.00000</td>\n",
       "      <td>1000.000000</td>\n",
       "      <td>1000.000000</td>\n",
       "      <td>1000.000000</td>\n",
       "    </tr>\n",
       "    <tr>\n",
       "      <th>mean</th>\n",
       "      <td>66.08900</td>\n",
       "      <td>69.169000</td>\n",
       "      <td>68.054000</td>\n",
       "      <td>203.312000</td>\n",
       "    </tr>\n",
       "    <tr>\n",
       "      <th>std</th>\n",
       "      <td>15.16308</td>\n",
       "      <td>14.600192</td>\n",
       "      <td>15.195657</td>\n",
       "      <td>42.771978</td>\n",
       "    </tr>\n",
       "    <tr>\n",
       "      <th>min</th>\n",
       "      <td>0.00000</td>\n",
       "      <td>17.000000</td>\n",
       "      <td>10.000000</td>\n",
       "      <td>27.000000</td>\n",
       "    </tr>\n",
       "    <tr>\n",
       "      <th>25%</th>\n",
       "      <td>57.00000</td>\n",
       "      <td>59.000000</td>\n",
       "      <td>57.750000</td>\n",
       "      <td>175.000000</td>\n",
       "    </tr>\n",
       "    <tr>\n",
       "      <th>50%</th>\n",
       "      <td>66.00000</td>\n",
       "      <td>70.000000</td>\n",
       "      <td>69.000000</td>\n",
       "      <td>205.000000</td>\n",
       "    </tr>\n",
       "    <tr>\n",
       "      <th>75%</th>\n",
       "      <td>77.00000</td>\n",
       "      <td>79.000000</td>\n",
       "      <td>79.000000</td>\n",
       "      <td>233.000000</td>\n",
       "    </tr>\n",
       "    <tr>\n",
       "      <th>max</th>\n",
       "      <td>100.00000</td>\n",
       "      <td>100.000000</td>\n",
       "      <td>100.000000</td>\n",
       "      <td>300.000000</td>\n",
       "    </tr>\n",
       "  </tbody>\n",
       "</table>\n",
       "</div>"
      ],
      "text/plain": [
       "       math score  reading score  writing score  total score\n",
       "count  1000.00000    1000.000000    1000.000000  1000.000000\n",
       "mean     66.08900      69.169000      68.054000   203.312000\n",
       "std      15.16308      14.600192      15.195657    42.771978\n",
       "min       0.00000      17.000000      10.000000    27.000000\n",
       "25%      57.00000      59.000000      57.750000   175.000000\n",
       "50%      66.00000      70.000000      69.000000   205.000000\n",
       "75%      77.00000      79.000000      79.000000   233.000000\n",
       "max     100.00000     100.000000     100.000000   300.000000"
      ]
     },
     "execution_count": 22,
     "metadata": {},
     "output_type": "execute_result"
    }
   ],
   "source": [
    "df.describe()"
   ]
  },
  {
   "cell_type": "code",
   "execution_count": 6,
   "metadata": {},
   "outputs": [
    {
     "data": {
      "text/plain": [
       "array(['bachelor', 'some college', 'master', 'associate', 'high school',\n",
       "       'some high school'], dtype=object)"
      ]
     },
     "execution_count": 6,
     "metadata": {},
     "output_type": "execute_result"
    }
   ],
   "source": [
    "df[\"parental level of education\"]=df[\"parental level of education\"].apply(lambda x: x.replace(\"'s degree\",\"\"))\n",
    "df[\"parental level of education\"].unique()"
   ]
  },
  {
   "cell_type": "code",
   "execution_count": 7,
   "metadata": {},
   "outputs": [],
   "source": [
    "scores= ['reading score','writing score','math score','total score']\n",
    "binary=['lunch','gender','test preparation course']\n",
    "multi=['race/ethnicity','parental level of education']"
   ]
  },
  {
   "cell_type": "code",
   "execution_count": 9,
   "metadata": {},
   "outputs": [],
   "source": [
    "box1 =px.box(df, y=\"total score\", facet_col=\"parental level of education\",color='gender',facet_col_wrap=2, template='ggplot2',title='Distribution of Total Score WRT Sex and Parents education')\n",
    "box2=px.box(df,x='total score',y='test preparation course',title='Influence of Test Preparation Course on Total Score',template='ggplot2')\n",
    "area= px.area(df,x='total score',y=['math score','writing score','reading score'],markers=True, template='ggplot2',title='Relationship between Total Score and other scores')\n",
    "pie=px.pie(df,names='race/ethnicity',values='total score',title=\"Groups' Total Score Distribution\",template='ggplot2')\n",
    "P_educ_gender=px.bar(df,x='parental level of education',color='gender',barmode='group',title='Distribution of Parents Education level among Genders')\n",
    "race_gender=px.bar(df,x='race/ethnicity',color='gender',barmode='group',title='Distribution of Ethnicity Groups among Genders')"
   ]
  },
  {
   "cell_type": "code",
   "execution_count": 31,
   "metadata": {},
   "outputs": [
    {
     "name": "stdout",
     "output_type": "stream",
     "text": [
      "Dash app running on http://127.0.0.1:8050/\n"
     ]
    }
   ],
   "source": [
    "app = JupyterDash(external_stylesheets=[dbc.themes.VAPOR])\n",
    "\n",
    "app.layout = html.Div(\n",
    "    [\n",
    "        html.Div([html.H1(\"Exploratory Data Analysis for Students Performances\",style={'textAlign':'center','font-family': 'Serif','font-size':'300%'})\n",
    "                  ],style={'backgroundColor': '#686868', \"border\":\"3x solid gray\"}),\n",
    "                \n",
    "        html.Hr(),\n",
    "        html.Hr(),\n",
    "\n",
    "        dbc.Row(\n",
    "            [\n",
    "                dbc.Col([\n",
    "                    html.Div(html.H3('Influence of binary attributes on Scores',style={'textAlign':'center','font-family': 'italic'})),\n",
    "                    html.Div([\n",
    "                        \n",
    "                        html.Label('Scores Vs Binary-class Variables',style={'font-size':'115%'}),\n",
    "                        \n",
    "                        dcc.Dropdown(\n",
    "                            id='dropdown_input',\n",
    "                            options=[{'label': i, 'value': i} for i in scores+binary],\n",
    "                            placeholder=\"Select an attribute\",\n",
    "                            value=['reading score','gender'],\n",
    "                            style ={'color': '#FA8072','backgroundColor':'#20374c','border':'purple'},\n",
    "                            multi=True),\n",
    "                        dcc.Graph('dist-binary')\n",
    "                        ]) ], width=6),\n",
    "                \n",
    "                dbc.Col([\n",
    "                    html.Div(html.H3('Influence of multinomial attributes on Scores',style={'textAlign':'center','font-family': 'italic'})),\n",
    "                    html.Div([\n",
    "                        \n",
    "                        html.Label('Scores Vs Multi-class Variables',style={'font-size':'115%'}),\n",
    "                        \n",
    "                        dcc.Dropdown(\n",
    "                            id='dropdown_input2',\n",
    "                            options= [{'label':i,'value':i} for i in scores+multi],\n",
    "                            placeholder=\"Select an attribute\",\n",
    "                            value=['reading score' , 'parental level of education'],\n",
    "                            style ={'color': '#FA8072','backgroundColor':'#20374c','border':'#686868'},\n",
    "                            multi=True),\n",
    "                        dcc.Graph('dist-multi')\n",
    "                    ]) ], width=6)\n",
    "        \n",
    "            ]),\n",
    "        \n",
    "        html.Div([], className=\"space3\", style={'width': '100%', 'height': '50px' , 'display': 'inline-block'}),\n",
    "        \n",
    "        html.Div(html.H1(\"Some other Combinations\",style={'textAlign':'center','font-family': 'italic'})),\n",
    "        html.Hr(),\n",
    "        \n",
    "        dbc.Row([\n",
    "            \n",
    "            dbc.Row([dbc.Col([ html.Div([dcc.Graph(figure=race_gender)],style={'padding': 10, 'flex': 1, 'backgroundColor': \"#20374c\"}) ], width=4),\n",
    "                     dbc.Col([ html.Div([dcc.Graph(figure=P_educ_gender)],style={'padding': 10, 'flex': 1, 'backgroundColor': \"#20374c\"}) ], width=4),\n",
    "                     dbc.Col([ html.Div([dcc.Graph(figure=pie)],style={'padding': 10, 'flex': 1,'backgroundColor': \"#20374c\"}) ], width=4)\n",
    "                 ],style={'display': 'flex', 'flex-direction': 'row'}),\n",
    "            \n",
    "            html.Hr(),\n",
    "            \n",
    "            dbc.Row([dbc.Col([html.Div([dcc.Graph(figure=area)],style={'padding': 10, 'flex': 1,'backgroundColor': \"#20374c\"})],width=6),\n",
    "                     dbc.Col([html.Div([dcc.Graph(figure=box1)],style={'padding': 10, 'flex': 1, 'backgroundColor': \"#20374c\"})],width=6)\n",
    "    \n",
    "            ])\n",
    "        ]) \n",
    "    ])\n",
    "        \n",
    "        \n",
    "@app.callback(\n",
    "    Output(component_id='dist-binary',component_property= 'figure'),\n",
    "    Output(component_id='dist-multi',component_property= 'figure'),\n",
    "    Input(component_id='dropdown_input',component_property= 'value'),\n",
    "    Input('dropdown_input2', 'value'))\n",
    "\n",
    "def update_my_output(input_val1,input_val2):\n",
    "    \n",
    "    if len(input_val1)==1:\n",
    "        fig1= px.histogram(df,x=input_val1[0],template='ggplot2',title='{} Distribution'.format(input_val1[0]))\n",
    "\n",
    "    elif len(input_val1)==2:\n",
    "        fig1= px.histogram(df, x=input_val1[0], color=input_val1[1], template='ggplot2', title='Distribution of {} WRT {}'.format(input_val1[0],input_val1[1]))\n",
    "\n",
    "    elif len(input_val1)==3:\n",
    "        fig1= px.histogram(df, x=input_val1[0], facet_col=input_val1[1], color=input_val1[2], template='ggplot2', title='Distribution of {} WRT {} , {}'.format(input_val1[0],input_val1[1],input_val1[2]))\n",
    "    \n",
    "    elif len(input_val1)>3 or len(input_val1)==0:\n",
    "        fig1= px.histogram(df,x='total score', template='ggplot2', title='Total Score Distribution')\n",
    "    \n",
    "    \n",
    "    if len(input_val2)==1:\n",
    "        fig2= px.histogram(df,x=input_val2[0],template='ggplot2',title='{} distribution'.format(input_val2[0]))\n",
    "\n",
    "    elif len(input_val2)==2:\n",
    "        fig2= px.histogram(df, x=input_val2[0], facet_col=input_val2[1], facet_col_wrap=2, template='ggplot2', title='Distribution of {} WRT {}'.format(input_val2[0],input_val2[1]))\n",
    "\n",
    "    elif len(input_val2)==3:\n",
    "        fig2= px.box(df, y=input_val2[0], facet_col=input_val2[1], color=input_val2[2],facet_col_wrap=2, template='ggplot2', title='Distribution of {} WRT {} , {}'.format(input_val2[0],input_val2[1],input_val2[2]))\n",
    "        fig2.for_each_annotation(lambda a: a.update(text=a.text.split(\"=\")[-1]))\n",
    "\n",
    "    elif len(input_val2)>3 or len(input_val2)==0:\n",
    "        fig2= px.histogram(df,x='total score', template='ggplot2', title='Total Score Distribution')\n",
    "        \n",
    "    return fig1,fig2\n",
    "\n",
    "app.run_server(debug=True)"
   ]
  },
  {
   "cell_type": "code",
   "execution_count": 11,
   "metadata": {},
   "outputs": [],
   "source": [
    "# dbc.Col([ html.Div([dcc.Graph(figure=area)],style={'padding': 10, 'flex': 1,'display': 'inline-block', 'backgroundColor': \"#20374c\"}) ], width='auto')"
   ]
  },
  {
   "cell_type": "code",
   "execution_count": 12,
   "metadata": {},
   "outputs": [],
   "source": [
    "# dbc.Col([ html.Div([dcc.Graph(figure=box2)],style={'padding': 10, 'flex': 1,'display': 'inline-block', 'backgroundColor': \"#20374c\"}) ],width='auto'),\n",
    "# dbc.Col([ html.Div([dcc.Graph(figure=P_educ_gender)],style={'padding': 10, 'flex': 1,'display': 'inline-block', 'backgroundColor': \"#20374c\"}) ], width=2),\n",
    "# dbc.Col([ html.Div([dcc.Graph(figure=race_gender)],style={'padding': 10, 'flex': 1,'display': 'inline-block', 'backgroundColor': \"#20374c\"}) ], width=2),"
   ]
  },
  {
   "cell_type": "code",
   "execution_count": 13,
   "metadata": {},
   "outputs": [],
   "source": [
    "# px.bar(df,x='parental level of education',color='gender',barmode='group')\n"
   ]
  },
  {
   "cell_type": "code",
   "execution_count": 14,
   "metadata": {},
   "outputs": [],
   "source": [
    "# px.bar(df,x='race/ethnicity',color='gender',barmode='group')"
   ]
  },
  {
   "cell_type": "code",
   "execution_count": null,
   "metadata": {},
   "outputs": [],
   "source": []
  }
 ],
 "metadata": {
  "kernelspec": {
   "display_name": "Python 3",
   "language": "python",
   "name": "python3"
  },
  "language_info": {
   "codemirror_mode": {
    "name": "ipython",
    "version": 3
   },
   "file_extension": ".py",
   "mimetype": "text/x-python",
   "name": "python",
   "nbconvert_exporter": "python",
   "pygments_lexer": "ipython3",
   "version": "3.8.5"
  }
 },
 "nbformat": 4,
 "nbformat_minor": 4
}
